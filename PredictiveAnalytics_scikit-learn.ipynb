{
 "cells": [
  {
   "cell_type": "markdown",
   "metadata": {},
   "source": [
    "<figure>\n",
    "<img src='data:image/png;base64,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'  width=\"120\" />\n",
    "<figcaption></figure>\n",
    "\n",
    "# Predictive Analytics"
   ]
  },
  {
   "cell_type": "markdown",
   "metadata": {},
   "source": [
    "### Regression Models Applied to Time Series (scikit-learn)"
   ]
  },
  {
   "cell_type": "markdown",
   "metadata": {},
   "source": [
    "## Objective\n",
    "\n",
    "The goal of this challenge is to develop a predictive model using a retail dataframe to forecast sales quantities for a specific item. To achieve this, we will begin by exploring the dataset to gain insights into the behavior of the selected item and identify any unique characteristics it may possess. \n",
    "\n",
    "Following this exploratory analysis, we will build a predictive model by experimenting with various models and using hyperparameter tuning. Finally, we will enhance the model's performance by incorporating relevant synthetic variables that can improve its understanding of the sales dynamics for the chosen product."
   ]
  },
  {
   "cell_type": "markdown",
   "metadata": {},
   "source": [
    "## 1. Environment Setup\n",
    "\n",
    "Let's load the libraries that we will use for the challenge."
   ]
  },
  {
   "cell_type": "code",
   "execution_count": 1,
   "metadata": {},
   "outputs": [],
   "source": [
    "import numpy as np\n",
    "import pandas as pd\n",
    "import matplotlib.pyplot as plt\n",
    "import pandas as pd\n",
    "import numpy as np\n",
    "import matplotlib.pyplot as plt\n",
    "\n",
    "%matplotlib inline\n",
    "from sklearn.metrics import mean_absolute_error\n",
    "from sklearn.metrics import mean_squared_log_error\n",
    "from sklearn.neighbors import KNeighborsRegressor\n",
    "from sklearn.ensemble import RandomForestRegressor\n",
    "from sklearn.neural_network import MLPRegressor\n",
    "from sklearn.svm import SVR\n",
    "from sklearn.preprocessing import StandardScaler\n",
    "from sklearn.model_selection import train_test_split\n",
    "from sklearn.linear_model import LinearRegression\n",
    "\n",
    "# optional - suppress warnings\n",
    "import warnings\n",
    "warnings.filterwarnings(\"ignore\")"
   ]
  },
  {
   "cell_type": "markdown",
   "metadata": {},
   "source": [
    "## 2. Data Loading and Preprocessig"
   ]
  },
  {
   "cell_type": "markdown",
   "metadata": {},
   "source": [
    "Loading our dataframe as *df_retail* and translate the columns to English."
   ]
  },
  {
   "cell_type": "code",
   "execution_count": 5,
   "metadata": {},
   "outputs": [
    {
     "data": {
      "text/html": [
       "<div>\n",
       "<style scoped>\n",
       "    .dataframe tbody tr th:only-of-type {\n",
       "        vertical-align: middle;\n",
       "    }\n",
       "\n",
       "    .dataframe tbody tr th {\n",
       "        vertical-align: top;\n",
       "    }\n",
       "\n",
       "    .dataframe thead th {\n",
       "        text-align: right;\n",
       "    }\n",
       "</style>\n",
       "<table border=\"1\" class=\"dataframe\">\n",
       "  <thead>\n",
       "    <tr style=\"text-align: right;\">\n",
       "      <th></th>\n",
       "      <th>Date</th>\n",
       "      <th>Reference</th>\n",
       "      <th>Units</th>\n",
       "      <th>Sales</th>\n",
       "    </tr>\n",
       "  </thead>\n",
       "  <tbody>\n",
       "    <tr>\n",
       "      <th>0</th>\n",
       "      <td>2017-01-01</td>\n",
       "      <td>Cerveza tercio</td>\n",
       "      <td>18.000000</td>\n",
       "      <td>11.700000</td>\n",
       "    </tr>\n",
       "    <tr>\n",
       "      <th>1</th>\n",
       "      <td>2017-01-01</td>\n",
       "      <td>Baguetes 2 unidades</td>\n",
       "      <td>34.000000</td>\n",
       "      <td>33.320001</td>\n",
       "    </tr>\n",
       "    <tr>\n",
       "      <th>2</th>\n",
       "      <td>2017-01-02</td>\n",
       "      <td>Aceite de oliva virgen extra 5 l</td>\n",
       "      <td>53.000000</td>\n",
       "      <td>1184.550020</td>\n",
       "    </tr>\n",
       "    <tr>\n",
       "      <th>3</th>\n",
       "      <td>2017-01-02</td>\n",
       "      <td>Bolsa naranjas 2Kg.</td>\n",
       "      <td>1118.000000</td>\n",
       "      <td>1889.420064</td>\n",
       "    </tr>\n",
       "    <tr>\n",
       "      <th>4</th>\n",
       "      <td>2017-01-02</td>\n",
       "      <td>Mandarina</td>\n",
       "      <td>1752.468997</td>\n",
       "      <td>3356.279999</td>\n",
       "    </tr>\n",
       "    <tr>\n",
       "      <th>5</th>\n",
       "      <td>2017-01-02</td>\n",
       "      <td>Melo  OR</td>\n",
       "      <td>399.428999</td>\n",
       "      <td>728.429999</td>\n",
       "    </tr>\n",
       "    <tr>\n",
       "      <th>6</th>\n",
       "      <td>2017-01-02</td>\n",
       "      <td>Baguetes 2 unidades</td>\n",
       "      <td>3572.000000</td>\n",
       "      <td>3257.839944</td>\n",
       "    </tr>\n",
       "    <tr>\n",
       "      <th>7</th>\n",
       "      <td>2017-01-02</td>\n",
       "      <td>Jamón reserva</td>\n",
       "      <td>48.515000</td>\n",
       "      <td>870.689999</td>\n",
       "    </tr>\n",
       "    <tr>\n",
       "      <th>8</th>\n",
       "      <td>2017-01-02</td>\n",
       "      <td>Cerveza tercio</td>\n",
       "      <td>1280.000000</td>\n",
       "      <td>802.150005</td>\n",
       "    </tr>\n",
       "    <tr>\n",
       "      <th>9</th>\n",
       "      <td>2017-01-02</td>\n",
       "      <td>Naranja en cajas</td>\n",
       "      <td>831.050001</td>\n",
       "      <td>1470.350000</td>\n",
       "    </tr>\n",
       "  </tbody>\n",
       "</table>\n",
       "</div>"
      ],
      "text/plain": [
       "         Date                         Reference        Units        Sales\n",
       "0  2017-01-01                    Cerveza tercio    18.000000    11.700000\n",
       "1  2017-01-01               Baguetes 2 unidades    34.000000    33.320001\n",
       "2  2017-01-02  Aceite de oliva virgen extra 5 l    53.000000  1184.550020\n",
       "3  2017-01-02               Bolsa naranjas 2Kg.  1118.000000  1889.420064\n",
       "4  2017-01-02                         Mandarina  1752.468997  3356.279999\n",
       "5  2017-01-02                          Melo  OR   399.428999   728.429999\n",
       "6  2017-01-02               Baguetes 2 unidades  3572.000000  3257.839944\n",
       "7  2017-01-02                     Jamón reserva    48.515000   870.689999\n",
       "8  2017-01-02                    Cerveza tercio  1280.000000   802.150005\n",
       "9  2017-01-02                  Naranja en cajas   831.050001  1470.350000"
      ]
     },
     "execution_count": 5,
     "metadata": {},
     "output_type": "execute_result"
    }
   ],
   "source": [
    "df_retail = pd.read_csv('df_retail.csv', delimiter=',')\n",
    "\n",
    "df_retail.rename(columns={\n",
    "    'Fecha': 'Date',\n",
    "    'Referencia': 'Reference',\n",
    "    'Unidades': 'Units',\n",
    "    'Ventas': 'Sales'\n",
    "}, inplace=True)\n",
    "\n",
    "df_retail.head(10)"
   ]
  },
  {
   "cell_type": "markdown",
   "metadata": {},
   "source": [
    "As we can see, our dataset contains sales information for various products over a period of time, consisting of four columns: *Date*, *Reference*, *Units*, and *Sales*. Here is a detailed description of each column and the type of information they contain:\n",
    "\n",
    "- Date: date of sale (YYYY-MM-DD)\n",
    "- Reference: name or description of the product sold (in Spanish)\n",
    "- Units: quantity sold for each product on the given date (float)\n",
    "- Sales: total sales amount (floating)"
   ]
  },
  {
   "cell_type": "markdown",
   "metadata": {},
   "source": [
    "To choose an item to analyze, first we need to check how many different items we have in our *Reference* column and what are their names."
   ]
  },
  {
   "cell_type": "code",
   "execution_count": 6,
   "metadata": {},
   "outputs": [
    {
     "data": {
      "text/plain": [
       "array(['Cerveza tercio', 'Baguetes 2 unidades',\n",
       "       'Aceite de oliva virgen extra 5 l', 'Bolsa naranjas 2Kg.',\n",
       "       'Mandarina', 'Melo  OR', 'Jamón reserva', 'Naranja en cajas',\n",
       "       'Pack de plátanos', 'MERLUZA PALANGRE 1 - 2 Kg (1 Caja 10Q.)',\n",
       "       'Tomate jugoso al peso', 'Filetes de salmón', 'Sepia',\n",
       "       'Fresa premium 500gr'], dtype=object)"
      ]
     },
     "execution_count": 6,
     "metadata": {},
     "output_type": "execute_result"
    }
   ],
   "source": [
    "df_retail['Reference'].unique()"
   ]
  },
  {
   "cell_type": "markdown",
   "metadata": {},
   "source": [
    "Now we filter our *df_retail* to create a new one only with the chosen item: **Jamón reserva**"
   ]
  },
  {
   "cell_type": "code",
   "execution_count": 7,
   "metadata": {},
   "outputs": [
    {
     "data": {
      "text/html": [
       "<div>\n",
       "<style scoped>\n",
       "    .dataframe tbody tr th:only-of-type {\n",
       "        vertical-align: middle;\n",
       "    }\n",
       "\n",
       "    .dataframe tbody tr th {\n",
       "        vertical-align: top;\n",
       "    }\n",
       "\n",
       "    .dataframe thead th {\n",
       "        text-align: right;\n",
       "    }\n",
       "</style>\n",
       "<table border=\"1\" class=\"dataframe\">\n",
       "  <thead>\n",
       "    <tr style=\"text-align: right;\">\n",
       "      <th></th>\n",
       "      <th>Date</th>\n",
       "      <th>Reference</th>\n",
       "      <th>Units</th>\n",
       "      <th>Sales</th>\n",
       "    </tr>\n",
       "  </thead>\n",
       "  <tbody>\n",
       "    <tr>\n",
       "      <th>7</th>\n",
       "      <td>2017-01-02</td>\n",
       "      <td>Jamón reserva</td>\n",
       "      <td>48.515</td>\n",
       "      <td>870.689999</td>\n",
       "    </tr>\n",
       "    <tr>\n",
       "      <th>24</th>\n",
       "      <td>2017-01-03</td>\n",
       "      <td>Jamón reserva</td>\n",
       "      <td>63.325</td>\n",
       "      <td>1136.559994</td>\n",
       "    </tr>\n",
       "    <tr>\n",
       "      <th>38</th>\n",
       "      <td>2017-01-04</td>\n",
       "      <td>Jamón reserva</td>\n",
       "      <td>42.230</td>\n",
       "      <td>922.829997</td>\n",
       "    </tr>\n",
       "    <tr>\n",
       "      <th>46</th>\n",
       "      <td>2017-01-05</td>\n",
       "      <td>Jamón reserva</td>\n",
       "      <td>58.165</td>\n",
       "      <td>1273.139998</td>\n",
       "    </tr>\n",
       "    <tr>\n",
       "      <th>56</th>\n",
       "      <td>2017-01-07</td>\n",
       "      <td>Jamón reserva</td>\n",
       "      <td>71.330</td>\n",
       "      <td>1561.350001</td>\n",
       "    </tr>\n",
       "  </tbody>\n",
       "</table>\n",
       "</div>"
      ],
      "text/plain": [
       "          Date      Reference   Units        Sales\n",
       "7   2017-01-02  Jamón reserva  48.515   870.689999\n",
       "24  2017-01-03  Jamón reserva  63.325  1136.559994\n",
       "38  2017-01-04  Jamón reserva  42.230   922.829997\n",
       "46  2017-01-05  Jamón reserva  58.165  1273.139998\n",
       "56  2017-01-07  Jamón reserva  71.330  1561.350001"
      ]
     },
     "execution_count": 7,
     "metadata": {},
     "output_type": "execute_result"
    }
   ],
   "source": [
    "df_jamon = df_retail[df_retail['Reference']=='Jamón reserva']\n",
    "df_jamon.head(5)"
   ]
  },
  {
   "cell_type": "markdown",
   "metadata": {},
   "source": [
    "Next step is to preprocess our filtered dataframe and create the time series"
   ]
  },
  {
   "cell_type": "code",
   "execution_count": 8,
   "metadata": {},
   "outputs": [],
   "source": [
    "df_jamon['Date'] = pd.to_datetime(df_jamon['Date'], format='%Y-%m-%d')\n",
    "df_jamon=df_jamon.set_index('Date')"
   ]
  },
  {
   "cell_type": "code",
   "execution_count": 9,
   "metadata": {},
   "outputs": [
    {
     "name": "stdout",
     "output_type": "stream",
     "text": [
      "2017-01-02 00:00:00\n"
     ]
    }
   ],
   "source": [
    "# Let's check the range of datas in our dataframe\n",
    "DateMin = df_jamon.index.min()\n",
    "print(DateMin)"
   ]
  },
  {
   "cell_type": "code",
   "execution_count": 10,
   "metadata": {},
   "outputs": [
    {
     "name": "stdout",
     "output_type": "stream",
     "text": [
      "2019-05-18 00:00:00\n"
     ]
    }
   ],
   "source": [
    "DateMax = df_jamon.index.max()\n",
    "print(DateMax)"
   ]
  },
  {
   "cell_type": "code",
   "execution_count": 11,
   "metadata": {},
   "outputs": [],
   "source": [
    "# Reindex the dataframe (df_jamon) to include all dates in the date range\n",
    "date_range = pd.date_range(start=DateMin, end=DateMax,freq='d')\n",
    "df_jamon = df_jamon.reindex(date_range)\n",
    "\n",
    "# Treating the missing values\n",
    "# Fill missing values in 'Unit' and 'Sales' columns with 0\n",
    "df_jamon['Units']=df_jamon['Units'].fillna(value=0)\n",
    "df_jamon['Sales']=df_jamon['Sales'].fillna(value=0)\n",
    "# Fill missing values in the 'Referencia' column using forward fill method (ffill)\n",
    "df_jamon['Reference']=df_jamon['Reference'].fillna(method='ffill')\n",
    "\n",
    "# Reset dataframe index\n",
    "df_jamon=df_jamon.reset_index()\n",
    "df_jamon=df_jamon.rename(columns={'index':'Date Format'})\n",
    "\n",
    "# Create a new column 'OffsetDays' that represents the index of the dataframe\n",
    "df_jamon['OffsetDays'] = df_jamon.index"
   ]
  },
  {
   "cell_type": "markdown",
   "metadata": {},
   "source": [
    "Let's examine the time series for *Jamón reserva* to ensure that we have one sales entry for each day within our specified range"
   ]
  },
  {
   "cell_type": "code",
   "execution_count": 12,
   "metadata": {},
   "outputs": [
    {
     "name": "stdout",
     "output_type": "stream",
     "text": [
      "<class 'pandas.core.frame.DataFrame'>\n",
      "RangeIndex: 867 entries, 0 to 866\n",
      "Data columns (total 5 columns):\n",
      " #   Column       Non-Null Count  Dtype         \n",
      "---  ------       --------------  -----         \n",
      " 0   Date Format  867 non-null    datetime64[ns]\n",
      " 1   Reference    867 non-null    object        \n",
      " 2   Units        867 non-null    float64       \n",
      " 3   Sales        867 non-null    float64       \n",
      " 4   OffsetDays   867 non-null    int64         \n",
      "dtypes: datetime64[ns](1), float64(2), int64(1), object(1)\n",
      "memory usage: 34.0+ KB\n"
     ]
    }
   ],
   "source": [
    "df_jamon.info()"
   ]
  },
  {
   "cell_type": "code",
   "execution_count": 13,
   "metadata": {},
   "outputs": [
    {
     "data": {
      "text/html": [
       "<div>\n",
       "<style scoped>\n",
       "    .dataframe tbody tr th:only-of-type {\n",
       "        vertical-align: middle;\n",
       "    }\n",
       "\n",
       "    .dataframe tbody tr th {\n",
       "        vertical-align: top;\n",
       "    }\n",
       "\n",
       "    .dataframe thead th {\n",
       "        text-align: right;\n",
       "    }\n",
       "</style>\n",
       "<table border=\"1\" class=\"dataframe\">\n",
       "  <thead>\n",
       "    <tr style=\"text-align: right;\">\n",
       "      <th></th>\n",
       "      <th>Date Format</th>\n",
       "      <th>Reference</th>\n",
       "      <th>Units</th>\n",
       "      <th>Sales</th>\n",
       "      <th>OffsetDays</th>\n",
       "    </tr>\n",
       "  </thead>\n",
       "  <tbody>\n",
       "    <tr>\n",
       "      <th>852</th>\n",
       "      <td>2019-05-04</td>\n",
       "      <td>Jamón reserva</td>\n",
       "      <td>93.200</td>\n",
       "      <td>1698.480005</td>\n",
       "      <td>852</td>\n",
       "    </tr>\n",
       "    <tr>\n",
       "      <th>853</th>\n",
       "      <td>2019-05-05</td>\n",
       "      <td>Jamón reserva</td>\n",
       "      <td>0.000</td>\n",
       "      <td>0.000000</td>\n",
       "      <td>853</td>\n",
       "    </tr>\n",
       "    <tr>\n",
       "      <th>854</th>\n",
       "      <td>2019-05-06</td>\n",
       "      <td>Jamón reserva</td>\n",
       "      <td>57.605</td>\n",
       "      <td>1152.550004</td>\n",
       "      <td>854</td>\n",
       "    </tr>\n",
       "    <tr>\n",
       "      <th>855</th>\n",
       "      <td>2019-05-07</td>\n",
       "      <td>Jamón reserva</td>\n",
       "      <td>87.625</td>\n",
       "      <td>1655.840000</td>\n",
       "      <td>855</td>\n",
       "    </tr>\n",
       "    <tr>\n",
       "      <th>856</th>\n",
       "      <td>2019-05-08</td>\n",
       "      <td>Jamón reserva</td>\n",
       "      <td>82.815</td>\n",
       "      <td>1406.530000</td>\n",
       "      <td>856</td>\n",
       "    </tr>\n",
       "    <tr>\n",
       "      <th>857</th>\n",
       "      <td>2019-05-09</td>\n",
       "      <td>Jamón reserva</td>\n",
       "      <td>99.660</td>\n",
       "      <td>1737.949991</td>\n",
       "      <td>857</td>\n",
       "    </tr>\n",
       "    <tr>\n",
       "      <th>858</th>\n",
       "      <td>2019-05-10</td>\n",
       "      <td>Jamón reserva</td>\n",
       "      <td>142.516</td>\n",
       "      <td>2517.459991</td>\n",
       "      <td>858</td>\n",
       "    </tr>\n",
       "    <tr>\n",
       "      <th>859</th>\n",
       "      <td>2019-05-11</td>\n",
       "      <td>Jamón reserva</td>\n",
       "      <td>58.800</td>\n",
       "      <td>1014.130000</td>\n",
       "      <td>859</td>\n",
       "    </tr>\n",
       "    <tr>\n",
       "      <th>860</th>\n",
       "      <td>2019-05-12</td>\n",
       "      <td>Jamón reserva</td>\n",
       "      <td>0.000</td>\n",
       "      <td>0.000000</td>\n",
       "      <td>860</td>\n",
       "    </tr>\n",
       "    <tr>\n",
       "      <th>861</th>\n",
       "      <td>2019-05-13</td>\n",
       "      <td>Jamón reserva</td>\n",
       "      <td>104.325</td>\n",
       "      <td>1812.629994</td>\n",
       "      <td>861</td>\n",
       "    </tr>\n",
       "    <tr>\n",
       "      <th>862</th>\n",
       "      <td>2019-05-14</td>\n",
       "      <td>Jamón reserva</td>\n",
       "      <td>90.495</td>\n",
       "      <td>1534.969995</td>\n",
       "      <td>862</td>\n",
       "    </tr>\n",
       "    <tr>\n",
       "      <th>863</th>\n",
       "      <td>2019-05-15</td>\n",
       "      <td>Jamón reserva</td>\n",
       "      <td>93.465</td>\n",
       "      <td>1653.959995</td>\n",
       "      <td>863</td>\n",
       "    </tr>\n",
       "    <tr>\n",
       "      <th>864</th>\n",
       "      <td>2019-05-16</td>\n",
       "      <td>Jamón reserva</td>\n",
       "      <td>99.870</td>\n",
       "      <td>1838.549994</td>\n",
       "      <td>864</td>\n",
       "    </tr>\n",
       "    <tr>\n",
       "      <th>865</th>\n",
       "      <td>2019-05-17</td>\n",
       "      <td>Jamón reserva</td>\n",
       "      <td>128.230</td>\n",
       "      <td>2309.240000</td>\n",
       "      <td>865</td>\n",
       "    </tr>\n",
       "    <tr>\n",
       "      <th>866</th>\n",
       "      <td>2019-05-18</td>\n",
       "      <td>Jamón reserva</td>\n",
       "      <td>137.430</td>\n",
       "      <td>2486.469991</td>\n",
       "      <td>866</td>\n",
       "    </tr>\n",
       "  </tbody>\n",
       "</table>\n",
       "</div>"
      ],
      "text/plain": [
       "    Date Format      Reference    Units        Sales  OffsetDays\n",
       "852  2019-05-04  Jamón reserva   93.200  1698.480005         852\n",
       "853  2019-05-05  Jamón reserva    0.000     0.000000         853\n",
       "854  2019-05-06  Jamón reserva   57.605  1152.550004         854\n",
       "855  2019-05-07  Jamón reserva   87.625  1655.840000         855\n",
       "856  2019-05-08  Jamón reserva   82.815  1406.530000         856\n",
       "857  2019-05-09  Jamón reserva   99.660  1737.949991         857\n",
       "858  2019-05-10  Jamón reserva  142.516  2517.459991         858\n",
       "859  2019-05-11  Jamón reserva   58.800  1014.130000         859\n",
       "860  2019-05-12  Jamón reserva    0.000     0.000000         860\n",
       "861  2019-05-13  Jamón reserva  104.325  1812.629994         861\n",
       "862  2019-05-14  Jamón reserva   90.495  1534.969995         862\n",
       "863  2019-05-15  Jamón reserva   93.465  1653.959995         863\n",
       "864  2019-05-16  Jamón reserva   99.870  1838.549994         864\n",
       "865  2019-05-17  Jamón reserva  128.230  2309.240000         865\n",
       "866  2019-05-18  Jamón reserva  137.430  2486.469991         866"
      ]
     },
     "execution_count": 13,
     "metadata": {},
     "output_type": "execute_result"
    }
   ],
   "source": [
    "df_jamon.tail(15)"
   ]
  },
  {
   "cell_type": "code",
   "execution_count": 14,
   "metadata": {},
   "outputs": [
    {
     "data": {
      "text/html": [
       "<div>\n",
       "<style scoped>\n",
       "    .dataframe tbody tr th:only-of-type {\n",
       "        vertical-align: middle;\n",
       "    }\n",
       "\n",
       "    .dataframe tbody tr th {\n",
       "        vertical-align: top;\n",
       "    }\n",
       "\n",
       "    .dataframe thead th {\n",
       "        text-align: right;\n",
       "    }\n",
       "</style>\n",
       "<table border=\"1\" class=\"dataframe\">\n",
       "  <thead>\n",
       "    <tr style=\"text-align: right;\">\n",
       "      <th></th>\n",
       "      <th>Date Format</th>\n",
       "      <th>Reference</th>\n",
       "      <th>Units</th>\n",
       "      <th>Sales</th>\n",
       "      <th>OffsetDays</th>\n",
       "    </tr>\n",
       "  </thead>\n",
       "  <tbody>\n",
       "    <tr>\n",
       "      <th>0</th>\n",
       "      <td>2017-01-02</td>\n",
       "      <td>Jamón reserva</td>\n",
       "      <td>48.515</td>\n",
       "      <td>870.689999</td>\n",
       "      <td>0</td>\n",
       "    </tr>\n",
       "    <tr>\n",
       "      <th>1</th>\n",
       "      <td>2017-01-03</td>\n",
       "      <td>Jamón reserva</td>\n",
       "      <td>63.325</td>\n",
       "      <td>1136.559994</td>\n",
       "      <td>1</td>\n",
       "    </tr>\n",
       "    <tr>\n",
       "      <th>2</th>\n",
       "      <td>2017-01-04</td>\n",
       "      <td>Jamón reserva</td>\n",
       "      <td>42.230</td>\n",
       "      <td>922.829997</td>\n",
       "      <td>2</td>\n",
       "    </tr>\n",
       "    <tr>\n",
       "      <th>3</th>\n",
       "      <td>2017-01-05</td>\n",
       "      <td>Jamón reserva</td>\n",
       "      <td>58.165</td>\n",
       "      <td>1273.139998</td>\n",
       "      <td>3</td>\n",
       "    </tr>\n",
       "    <tr>\n",
       "      <th>4</th>\n",
       "      <td>2017-01-06</td>\n",
       "      <td>Jamón reserva</td>\n",
       "      <td>0.000</td>\n",
       "      <td>0.000000</td>\n",
       "      <td>4</td>\n",
       "    </tr>\n",
       "    <tr>\n",
       "      <th>5</th>\n",
       "      <td>2017-01-07</td>\n",
       "      <td>Jamón reserva</td>\n",
       "      <td>71.330</td>\n",
       "      <td>1561.350001</td>\n",
       "      <td>5</td>\n",
       "    </tr>\n",
       "    <tr>\n",
       "      <th>6</th>\n",
       "      <td>2017-01-08</td>\n",
       "      <td>Jamón reserva</td>\n",
       "      <td>0.075</td>\n",
       "      <td>1.640000</td>\n",
       "      <td>6</td>\n",
       "    </tr>\n",
       "    <tr>\n",
       "      <th>7</th>\n",
       "      <td>2017-01-09</td>\n",
       "      <td>Jamón reserva</td>\n",
       "      <td>39.155</td>\n",
       "      <td>857.149997</td>\n",
       "      <td>7</td>\n",
       "    </tr>\n",
       "    <tr>\n",
       "      <th>8</th>\n",
       "      <td>2017-01-10</td>\n",
       "      <td>Jamón reserva</td>\n",
       "      <td>37.225</td>\n",
       "      <td>814.880001</td>\n",
       "      <td>8</td>\n",
       "    </tr>\n",
       "    <tr>\n",
       "      <th>9</th>\n",
       "      <td>2017-01-11</td>\n",
       "      <td>Jamón reserva</td>\n",
       "      <td>34.055</td>\n",
       "      <td>745.500002</td>\n",
       "      <td>9</td>\n",
       "    </tr>\n",
       "    <tr>\n",
       "      <th>10</th>\n",
       "      <td>2017-01-12</td>\n",
       "      <td>Jamón reserva</td>\n",
       "      <td>32.360</td>\n",
       "      <td>708.369998</td>\n",
       "      <td>10</td>\n",
       "    </tr>\n",
       "    <tr>\n",
       "      <th>11</th>\n",
       "      <td>2017-01-13</td>\n",
       "      <td>Jamón reserva</td>\n",
       "      <td>51.300</td>\n",
       "      <td>1122.959999</td>\n",
       "      <td>11</td>\n",
       "    </tr>\n",
       "    <tr>\n",
       "      <th>12</th>\n",
       "      <td>2017-01-14</td>\n",
       "      <td>Jamón reserva</td>\n",
       "      <td>65.645</td>\n",
       "      <td>1436.959999</td>\n",
       "      <td>12</td>\n",
       "    </tr>\n",
       "    <tr>\n",
       "      <th>13</th>\n",
       "      <td>2017-01-15</td>\n",
       "      <td>Jamón reserva</td>\n",
       "      <td>0.595</td>\n",
       "      <td>13.030000</td>\n",
       "      <td>13</td>\n",
       "    </tr>\n",
       "    <tr>\n",
       "      <th>14</th>\n",
       "      <td>2017-01-16</td>\n",
       "      <td>Jamón reserva</td>\n",
       "      <td>34.990</td>\n",
       "      <td>765.950002</td>\n",
       "      <td>14</td>\n",
       "    </tr>\n",
       "  </tbody>\n",
       "</table>\n",
       "</div>"
      ],
      "text/plain": [
       "   Date Format      Reference   Units        Sales  OffsetDays\n",
       "0   2017-01-02  Jamón reserva  48.515   870.689999           0\n",
       "1   2017-01-03  Jamón reserva  63.325  1136.559994           1\n",
       "2   2017-01-04  Jamón reserva  42.230   922.829997           2\n",
       "3   2017-01-05  Jamón reserva  58.165  1273.139998           3\n",
       "4   2017-01-06  Jamón reserva   0.000     0.000000           4\n",
       "5   2017-01-07  Jamón reserva  71.330  1561.350001           5\n",
       "6   2017-01-08  Jamón reserva   0.075     1.640000           6\n",
       "7   2017-01-09  Jamón reserva  39.155   857.149997           7\n",
       "8   2017-01-10  Jamón reserva  37.225   814.880001           8\n",
       "9   2017-01-11  Jamón reserva  34.055   745.500002           9\n",
       "10  2017-01-12  Jamón reserva  32.360   708.369998          10\n",
       "11  2017-01-13  Jamón reserva  51.300  1122.959999          11\n",
       "12  2017-01-14  Jamón reserva  65.645  1436.959999          12\n",
       "13  2017-01-15  Jamón reserva   0.595    13.030000          13\n",
       "14  2017-01-16  Jamón reserva  34.990   765.950002          14"
      ]
     },
     "execution_count": 14,
     "metadata": {},
     "output_type": "execute_result"
    }
   ],
   "source": [
    "df_jamon.head(15)"
   ]
  },
  {
   "cell_type": "code",
   "execution_count": 15,
   "metadata": {},
   "outputs": [
    {
     "data": {
      "text/plain": [
       "<Axes: >"
      ]
     },
     "execution_count": 15,
     "metadata": {},
     "output_type": "execute_result"
    },
    {
     "data": {
      "image/png": "[encoded data removed]",
      "text/plain": [
       "<Figure size 640x480 with 1 Axes>"
      ]
     },
     "metadata": {},
     "output_type": "display_data"
    }
   ],
   "source": [
    "# Now we can plot a graphic to see how our time series looks like \n",
    "df_jamon.plot()"
   ]
  },
  {
   "cell_type": "markdown",
   "metadata": {
    "collapsed": true,
    "jupyter": {
     "outputs_hidden": true
    }
   },
   "source": [
    "## 3. Testing the Prediction with Different Models\n",
    "\n",
    "To evaluate the effectiveness of various predictive models on our sales database, we will use the evaluation function created below. With this function we can assess the performance of each model, allowing us to identify which approach provides the most accurate forecasts for the number of units sold."
   ]
  },
  {
   "cell_type": "code",
   "execution_count": 16,
   "metadata": {},
   "outputs": [],
   "source": [
    "def calculoEvaluacionModelo(modelo,df,norm):\n",
    "\n",
    "    xPredicted = []\n",
    "    yPredicted = []\n",
    "    ySpotted = []\n",
    "    mean_error = []\n",
    "\n",
    "    # Using the last two months, we evaluate the chosen model\n",
    "    for day in range(800,861):\n",
    "        train = df[df['OffsetDays'] < day]\n",
    "        val = df[df['OffsetDays'] == day]       \n",
    "        \n",
    "        xtr, xts = train.drop(['Date Format','Reference','Units'], axis=1), val.drop(['Date Format','Reference','Units'], axis=1)\n",
    "        \n",
    "        if(norm==True):\n",
    "            sc = StandardScaler()  \n",
    "            xtr = sc.fit_transform(xtr)  \n",
    "            xts = sc.transform(xts)  \n",
    "        ytr, yts = train['Units'].values, val['Units'].values  \n",
    "\n",
    "        mdl = modelo\n",
    "        mdl.fit(xtr, ytr)\n",
    "\n",
    "        p = mdl.predict(xts)\n",
    "\n",
    "        xPredicted=xPredicted + [day]\n",
    "        yPredicted=yPredicted + [p[0]]\n",
    "        ySpotted = ySpotted + [yts[0]]\n",
    "\n",
    "        error = mean_absolute_error(yts, p)\n",
    "        print('Day %d - Error %.5f' % (day, error))\n",
    "        mean_error.append(error)\n",
    "\n",
    "    print('Mean Error = %.5f' % np.mean(mean_error))\n",
    "    prediction = pd.DataFrame(\n",
    "        {'Sold units predicted': yPredicted,\n",
    "         'Sold units actually spotted': ySpotted\n",
    "        },index=xPredicted)\n",
    "    prediction.plot()"
   ]
  },
  {
   "cell_type": "markdown",
   "metadata": {},
   "source": [
    "### Linear Regression"
   ]
  },
  {
   "cell_type": "code",
   "execution_count": 17,
   "metadata": {},
   "outputs": [
    {
     "name": "stdout",
     "output_type": "stream",
     "text": [
      "Day 800 - Error 2.56024\n",
      "Day 801 - Error 5.10435\n",
      "Day 802 - Error 7.54597\n",
      "Day 803 - Error 13.40819\n",
      "Day 804 - Error 1.42606\n",
      "Day 805 - Error 7.46336\n",
      "Day 806 - Error 7.55341\n",
      "Day 807 - Error 6.27395\n",
      "Day 808 - Error 1.50846\n",
      "Day 809 - Error 5.38303\n",
      "Day 810 - Error 7.34366\n",
      "Day 811 - Error 1.47429\n",
      "Day 812 - Error 6.56683\n",
      "Day 813 - Error 1.35827\n",
      "Day 814 - Error 3.93697\n",
      "Day 815 - Error 2.94412\n",
      "Day 816 - Error 7.06085\n",
      "Day 817 - Error 0.97372\n",
      "Day 818 - Error 1.32548\n",
      "Day 819 - Error 7.29104\n",
      "Day 820 - Error 5.70910\n",
      "Day 821 - Error 4.71861\n",
      "Day 822 - Error 8.94294\n",
      "Day 823 - Error 6.39859\n",
      "Day 824 - Error 0.84483\n",
      "Day 825 - Error 1.42836\n",
      "Day 826 - Error 1.84578\n",
      "Day 827 - Error 0.32603\n",
      "Day 828 - Error 2.86512\n",
      "Day 829 - Error 1.54662\n",
      "Day 830 - Error 3.86473\n",
      "Day 831 - Error 1.93814\n",
      "Day 832 - Error 1.51756\n",
      "Day 833 - Error 3.57020\n",
      "Day 834 - Error 0.68458\n",
      "Day 835 - Error 0.70007\n",
      "Day 836 - Error 9.63882\n",
      "Day 837 - Error 1.62885\n",
      "Day 838 - Error 3.65792\n",
      "Day 839 - Error 1.66259\n",
      "Day 840 - Error 1.63192\n",
      "Day 841 - Error 1.42807\n",
      "Day 842 - Error 16.66832\n",
      "Day 843 - Error 0.18584\n",
      "Day 844 - Error 2.82516\n",
      "Day 845 - Error 4.95214\n",
      "Day 846 - Error 1.80626\n",
      "Day 847 - Error 5.40753\n",
      "Day 848 - Error 6.11541\n",
      "Day 849 - Error 1.72479\n",
      "Day 850 - Error 0.96911\n",
      "Day 851 - Error 13.19850\n",
      "Day 852 - Error 0.41975\n",
      "Day 853 - Error 1.68790\n",
      "Day 854 - Error 6.47490\n",
      "Day 855 - Error 3.68338\n",
      "Day 856 - Error 5.00973\n",
      "Day 857 - Error 3.87736\n",
      "Day 858 - Error 4.49998\n",
      "Day 859 - Error 2.14600\n",
      "Day 860 - Error 1.76315\n",
      "Mean Error = 4.07323\n"
     ]
    },
    {
     "data": {
      "image/png": "[encoded data removed]",
      "text/plain": [
       "<Figure size 640x480 with 1 Axes>"
      ]
     },
     "metadata": {},
     "output_type": "display_data"
    }
   ],
   "source": [
    "calculoEvaluacionModelo(LinearRegression(),df_jamon,True)"
   ]
  },
  {
   "cell_type": "markdown",
   "metadata": {},
   "source": [
    "### KNeighbours Regression"
   ]
  },
  {
   "cell_type": "code",
   "execution_count": 18,
   "metadata": {},
   "outputs": [
    {
     "name": "stdout",
     "output_type": "stream",
     "text": [
      "Day 800 - Error 3.98500\n",
      "Day 801 - Error 7.82000\n",
      "Day 802 - Error 1.91333\n",
      "Day 803 - Error 15.06167\n",
      "Day 804 - Error 0.15333\n",
      "Day 805 - Error 4.13333\n",
      "Day 806 - Error 3.26833\n",
      "Day 807 - Error 1.22167\n",
      "Day 808 - Error 7.60500\n",
      "Day 809 - Error 3.09333\n",
      "Day 810 - Error 7.90333\n",
      "Day 811 - Error 0.72167\n",
      "Day 812 - Error 8.18667\n",
      "Day 813 - Error 3.47333\n",
      "Day 814 - Error 2.08667\n",
      "Day 815 - Error 2.39500\n",
      "Day 816 - Error 6.19000\n",
      "Day 817 - Error 11.56667\n",
      "Day 818 - Error 0.01667\n",
      "Day 819 - Error 7.14167\n",
      "Day 820 - Error 4.34833\n",
      "Day 821 - Error 6.45333\n",
      "Day 822 - Error 14.51833\n",
      "Day 823 - Error 3.86167\n",
      "Day 824 - Error 5.45667\n",
      "Day 825 - Error 1.10833\n",
      "Day 826 - Error 8.27500\n",
      "Day 827 - Error 0.43500\n",
      "Day 828 - Error 1.21667\n",
      "Day 829 - Error 0.00167\n",
      "Day 830 - Error 4.49633\n",
      "Day 831 - Error 2.49000\n",
      "Day 832 - Error 0.05500\n",
      "Day 833 - Error 9.01500\n",
      "Day 834 - Error 0.05000\n",
      "Day 835 - Error 0.50833\n",
      "Day 836 - Error 5.37200\n",
      "Day 837 - Error 1.26500\n",
      "Day 838 - Error 4.29567\n",
      "Day 839 - Error 1.33167\n",
      "Day 840 - Error 0.09167\n",
      "Day 841 - Error 6.71433\n",
      "Day 842 - Error 19.03000\n",
      "Day 843 - Error 6.35500\n",
      "Day 844 - Error 4.87000\n",
      "Day 845 - Error 6.38833\n",
      "Day 846 - Error 0.83667\n",
      "Day 847 - Error 9.29000\n",
      "Day 848 - Error 4.13500\n",
      "Day 849 - Error 0.58833\n",
      "Day 850 - Error 4.04833\n",
      "Day 851 - Error 14.34500\n",
      "Day 852 - Error 7.71000\n",
      "Day 853 - Error 0.46333\n",
      "Day 854 - Error 3.20500\n",
      "Day 855 - Error 2.17333\n",
      "Day 856 - Error 7.68500\n",
      "Day 857 - Error 9.79167\n",
      "Day 858 - Error 7.80100\n",
      "Day 859 - Error 5.10333\n",
      "Day 860 - Error 0.17333\n",
      "Mean Error = 4.80802\n"
     ]
    },
    {
     "data": {
      "image/png": "[encoded data removed]",
      "text/plain": [
       "<Figure size 640x480 with 1 Axes>"
      ]
     },
     "metadata": {},
     "output_type": "display_data"
    }
   ],
   "source": [
    "calculoEvaluacionModelo(KNeighborsRegressor(n_neighbors=3),df_jamon,False)"
   ]
  },
  {
   "cell_type": "markdown",
   "metadata": {},
   "source": [
    "### MLP Regression "
   ]
  },
  {
   "cell_type": "code",
   "execution_count": null,
   "metadata": {},
   "outputs": [
    {
     "name": "stdout",
     "output_type": "stream",
     "text": [
      "Day 800 - Error 7.00236\n",
      "Day 801 - Error 10.13824\n",
      "Day 802 - Error 0.33748\n",
      "Day 803 - Error 7.87276\n",
      "Day 804 - Error 0.89357\n",
      "Day 805 - Error 4.05633\n",
      "Day 806 - Error 4.83632\n",
      "Day 807 - Error 3.04673\n",
      "Day 808 - Error 5.62072\n",
      "Day 809 - Error 0.08874\n",
      "Day 810 - Error 0.15501\n",
      "Day 811 - Error 0.61767\n",
      "Day 812 - Error 1.77076\n",
      "Day 813 - Error 6.19070\n",
      "Day 814 - Error 0.19602\n",
      "Day 815 - Error 2.13828\n",
      "Day 816 - Error 2.97032\n",
      "Day 817 - Error 5.58509\n",
      "Day 818 - Error 0.36244\n",
      "Day 819 - Error 1.41754\n",
      "Day 820 - Error 7.31465\n",
      "Day 821 - Error 11.28295\n",
      "Day 822 - Error 11.95677\n",
      "Day 823 - Error 10.71149\n",
      "Day 824 - Error 0.59194\n",
      "Day 825 - Error 0.41919\n",
      "Day 826 - Error 6.96989\n",
      "Day 827 - Error 3.38146\n",
      "Day 828 - Error 12.22114\n",
      "Day 829 - Error 3.50733\n",
      "Day 830 - Error 7.59070\n",
      "Day 831 - Error 4.79295\n",
      "Day 832 - Error 0.36399\n",
      "Day 833 - Error 8.10146\n",
      "Day 834 - Error 1.83065\n",
      "Day 835 - Error 2.15117\n",
      "Day 836 - Error 10.76751\n",
      "Day 837 - Error 0.64223\n",
      "Day 838 - Error 6.91900\n",
      "Day 839 - Error 1.00190\n",
      "Day 840 - Error 0.37566\n",
      "Day 841 - Error 3.51392\n",
      "Day 842 - Error 21.83085\n",
      "Day 843 - Error 4.48610\n",
      "Day 844 - Error 1.02275\n",
      "Day 845 - Error 1.36190\n",
      "Day 846 - Error 0.68973\n",
      "Day 847 - Error 1.73178\n",
      "Day 848 - Error 9.92192\n",
      "Day 849 - Error 0.42459\n",
      "Day 850 - Error 0.99670\n",
      "Day 851 - Error 10.53523\n",
      "Day 852 - Error 3.43500\n",
      "Day 853 - Error 0.50542\n",
      "Day 854 - Error 2.71813\n",
      "Day 855 - Error 4.74446\n",
      "Day 856 - Error 9.59073\n",
      "Day 857 - Error 9.84450\n"
     ]
    }
   ],
   "source": [
    "calculoEvaluacionModelo(MLPRegressor(),df_jamon,False)"
   ]
  },
  {
   "cell_type": "markdown",
   "metadata": {},
   "source": [
    "### SVR Model"
   ]
  },
  {
   "cell_type": "code",
   "execution_count": null,
   "metadata": {},
   "outputs": [],
   "source": [
    "calculoEvaluacionModelo(SVR(C = 200) ,df_jamon,False)"
   ]
  },
  {
   "cell_type": "markdown",
   "metadata": {},
   "source": [
    "As we can see, we achieved better results with the **SVR Model**, so we will proceed with this approach, now using the whole dataframe."
   ]
  },
  {
   "cell_type": "code",
   "execution_count": null,
   "metadata": {},
   "outputs": [],
   "source": [
    "norma=False\n",
    "df_jamon_simple = df_jamon[['OffsetDays','Reference','Date Format','Units']].copy()\n",
    "df_jamon_simple.info()\n",
    "\n",
    "\n",
    "calculoEvaluacionModelo(SVR(C = 200),df_jamon_simple,False)"
   ]
  },
  {
   "cell_type": "markdown",
   "metadata": {},
   "source": [
    "## 4. Enhancing our Model with Synthetic Variables\n",
    "\n",
    "Based on your observations of the behavior of the sold units for your Reference, we create now synthetic variables that we believe will help improve the model's predictions."
   ]
  },
  {
   "cell_type": "markdown",
   "metadata": {},
   "source": [
    "### Using Lags y Diffs"
   ]
  },
  {
   "cell_type": "code",
   "execution_count": null,
   "metadata": {},
   "outputs": [],
   "source": [
    "df_jamon_simple2 = df_jamon_simple.copy()\n",
    "df_jamon_simple2['Units_prev'] = df_jamon_simple2['Units'].shift()\n",
    "df_jamon_simple2['Units_Diff'] = df_jamon_simple2['Units_prev'].diff()\n",
    "df_jamon_simple2.head()"
   ]
  },
  {
   "cell_type": "code",
   "execution_count": null,
   "metadata": {},
   "outputs": [],
   "source": [
    "df_jamon_simple2 = df_jamon_simple2.dropna()"
   ]
  },
  {
   "cell_type": "code",
   "execution_count": null,
   "metadata": {},
   "outputs": [],
   "source": [
    "calculoEvaluacionModelo(SVR(C = 200),df_jamon_simple2,False)"
   ]
  },
  {
   "cell_type": "markdown",
   "metadata": {},
   "source": [
    "### Adding week days to the dataframe"
   ]
  },
  {
   "cell_type": "code",
   "execution_count": null,
   "metadata": {},
   "outputs": [],
   "source": [
    "df_jamon_simple2.head()\n",
    "df_jamon_simple2['Week day'] = df_jamon_simple2['Date Format'].dt.dayofweek"
   ]
  },
  {
   "cell_type": "code",
   "execution_count": null,
   "metadata": {},
   "outputs": [],
   "source": [
    "df_jamon_simple2.head(10)"
   ]
  },
  {
   "cell_type": "code",
   "execution_count": null,
   "metadata": {},
   "outputs": [],
   "source": [
    "df_jamon_simple2['Monday'] =  df_jamon_simple2['Week day'].apply(lambda x: 1 if (x==0) else 0) \n",
    "df_jamon_simple2['Tuesday'] =  df_jamon_simple2['Week day'].apply(lambda x: 1 if (x==1) else 0) \n",
    "df_jamon_simple2['Wednesday'] =  df_jamon_simple2['Week day'].apply(lambda x: 1 if (x==2) else 0) \n",
    "df_jamon_simple2['Thursday'] =  df_jamon_simple2['Week day'].apply(lambda x: 1 if (x==3) else 0) \n",
    "df_jamon_simple2['Friday'] =  df_jamon_simple2['Week day'].apply(lambda x: 1 if (x==4) else 0) \n",
    "df_jamon_simple2['Saturday'] =  df_jamon_simple2['Week day'].apply(lambda x: 1 if (x==5) else 0) \n",
    "df_jamon_simple2['Sunday'] =  df_jamon_simple2['Week day'].apply(lambda x: 1 if (x==6) else 0) "
   ]
  },
  {
   "cell_type": "code",
   "execution_count": null,
   "metadata": {},
   "outputs": [],
   "source": [
    "df_jamon_lag_days = df_jamon_simple2[['OffsetDays','Date Format', 'Reference','Units','Monday','Tuesday','Wednesday','Thursday','Friday','Saturday','Sunday']].copy()\n",
    "\n",
    "df_jamon_lag_days['Units_prev1'] = df_jamon_lag_days['Units'].shift(1)\n",
    "df_jamon_lag_days['Units_prev2'] = df_jamon_lag_days['Units'].shift(2)\n",
    "df_jamon_lag_days['Units_prev3'] = df_jamon_lag_days['Units'].shift(3)\n",
    "df_jamon_lag_days['Units_prev4'] = df_jamon_lag_days['Units'].shift(4)\n",
    "df_jamon_lag_days['Units_prev5'] = df_jamon_lag_days['Units'].shift(5)\n",
    "df_jamon_lag_days['Units_prev6'] = df_jamon_lag_days['Units'].shift(6)\n",
    "df_jamon_lag_days['Units_prev7'] = df_jamon_lag_days['Units'].shift(7)\n",
    "\n",
    "df_jamon_lag_days=df_jamon_lag_days.dropna()\n",
    "df_jamon_lag_days.head()"
   ]
  },
  {
   "cell_type": "code",
   "execution_count": null,
   "metadata": {},
   "outputs": [],
   "source": [
    "calculoEvaluacionModelo(RandomForestRegressor(n_estimators=20, random_state=0),df_jamon_lag_days,norma)"
   ]
  },
  {
   "cell_type": "markdown",
   "metadata": {},
   "source": [
    "### Adding months to the dataframe"
   ]
  },
  {
   "cell_type": "code",
   "execution_count": null,
   "metadata": {},
   "outputs": [],
   "source": [
    "df_jamon_simple2['Month'] = df_jamon_simple2['Date Format'].dt.month"
   ]
  },
  {
   "cell_type": "code",
   "execution_count": null,
   "metadata": {},
   "outputs": [],
   "source": [
    "df_jamon_simple2.head()"
   ]
  },
  {
   "cell_type": "code",
   "execution_count": null,
   "metadata": {},
   "outputs": [],
   "source": [
    "df_jamon_simple2['January'] = df_jamon_simple2['Month'].apply(lambda x: 1 if (x == 1) else 0) \n",
    "df_jamon_simple2['February'] = df_jamon_simple2['Month'].apply(lambda x: 1 if (x == 2) else 0) \n",
    "df_jamon_simple2['March'] = df_jamon_simple2['Month'].apply(lambda x: 1 if (x == 3) else 0) \n",
    "df_jamon_simple2['April'] = df_jamon_simple2['Month'].apply(lambda x: 1 if (x == 4) else 0) \n",
    "df_jamon_simple2['May'] = df_jamon_simple2['Month'].apply(lambda x: 1 if (x == 5) else 0) \n",
    "df_jamon_simple2['June'] = df_jamon_simple2['Month'].apply(lambda x: 1 if (x == 6) else 0) \n",
    "df_jamon_simple2['July'] = df_jamon_simple2['Month'].apply(lambda x: 1 if (x == 7) else 0) \n",
    "df_jamon_simple2['August'] = df_jamon_simple2['Month'].apply(lambda x: 1 if (x == 8) else 0) \n",
    "df_jamon_simple2['September'] = df_jamon_simple2['Month'].apply(lambda x: 1 if (x == 9) else 0) \n",
    "df_jamon_simple2['October'] = df_jamon_simple2['Month'].apply(lambda x: 1 if (x == 10) else 0) \n",
    "df_jamon_simple2['November'] = df_jamon_simple2['Month'].apply(lambda x: 1 if (x == 11) else 0) \n",
    "df_jamon_simple2['December'] = df_jamon_simple2['Month'].apply(lambda x: 1 if (x == 12) else 0)"
   ]
  },
  {
   "cell_type": "code",
   "execution_count": null,
   "metadata": {},
   "outputs": [],
   "source": [
    "df_jamon_lag_days_month = df_jamon_simple2[['OffsetDays','Date Format', 'Reference','Units','Monday','Tuesday','Wednesday','Thursday','Friday','Saturday','Sunday','January','February','March','April','May', 'June', 'July', 'August','September','October','November','December']].copy()\n",
    "\n",
    "df_jamon_lag_days_month['Units_prev1'] = df_jamon_lag_days_month['Units'].shift(1)\n",
    "df_jamon_lag_days_month['Units_prev2'] = df_jamon_lag_days_month['Units'].shift(2)\n",
    "df_jamon_lag_days_month['Units_prev3'] = df_jamon_lag_days_month['Units'].shift(3)\n",
    "df_jamon_lag_days_month['Units_prev4'] = df_jamon_lag_days_month['Units'].shift(4)\n",
    "df_jamon_lag_days_month['Units_prev5'] = df_jamon_lag_days_month['Units'].shift(5)\n",
    "df_jamon_lag_days_month['Units_prev6'] = df_jamon_lag_days_month['Units'].shift(6)\n",
    "df_jamon_lag_days_month['Units_prev7'] = df_jamon_lag_days_month['Units'].shift(7)\n",
    "\n",
    "df_jamon_lag_days_month=df_jamon_lag_days_month.dropna()\n",
    "df_jamon_lag_days_month.head()"
   ]
  },
  {
   "cell_type": "code",
   "execution_count": null,
   "metadata": {},
   "outputs": [],
   "source": [
    "calculoEvaluacionModelo(RandomForestRegressor(n_estimators=20, random_state=0),df_jamon_lag_days_month,norma)"
   ]
  },
  {
   "cell_type": "markdown",
   "metadata": {},
   "source": [
    "The final mean error achieved was 14,298%. This result indicates the average deviation between the predicted values and the actual sales data. While this error percentage provides insight into the model's performance, there is potential for improvement. Future iterations could involve further tuning of the model parameters, incorporating additional synthetic variables, or exploring alternative modeling techniques to enhance prediction accuracy."
   ]
  }
 ],
 "metadata": {
  "anaconda-cloud": {},
  "kernelspec": {
   "display_name": "Python 3 (ipykernel)",
   "language": "python",
   "name": "python3"
  },
  "language_info": {
   "codemirror_mode": {
    "name": "ipython",
    "version": 3
   },
   "file_extension": ".py",
   "mimetype": "text/x-python",
   "name": "python",
   "nbconvert_exporter": "python",
   "pygments_lexer": "ipython3",
   "version": "3.11.7"
  }
 },
 "nbformat": 4,
 "nbformat_minor": 4
}
